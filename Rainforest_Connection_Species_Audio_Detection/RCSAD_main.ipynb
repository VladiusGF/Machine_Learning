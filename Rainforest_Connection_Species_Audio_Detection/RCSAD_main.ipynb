{
 "cells": [
  {
   "cell_type": "markdown",
   "id": "c59e7f10",
   "metadata": {},
   "source": [
    "# Imports"
   ]
  },
  {
   "cell_type": "code",
   "execution_count": null,
   "id": "487bc542",
   "metadata": {
    "_cell_guid": "b1076dfc-b9ad-4769-8c92-a6c4dae69d19",
    "_uuid": "8f2839f25d086af736a60e9eeb907d3b93b6e0e5",
    "execution": {
     "iopub.execute_input": "2023-10-15T23:19:44.302682Z",
     "iopub.status.busy": "2023-10-15T23:19:44.302366Z",
     "iopub.status.idle": "2023-10-15T23:19:49.798618Z",
     "shell.execute_reply": "2023-10-15T23:19:49.797630Z"
    },
    "papermill": {
     "duration": 5.503291,
     "end_time": "2023-10-15T23:19:49.800856",
     "exception": false,
     "start_time": "2023-10-15T23:19:44.297565",
     "status": "completed"
    },
    "tags": []
   },
   "outputs": [],
   "source": [
    "import torch.nn as nn\n",
    "import numpy as np\n",
    "import random\n",
    "import torch\n",
    "import torch.nn as nn\n",
    "import copy\n",
    "import warnings\n",
    "import torch\n",
    "import librosa\n",
    "import csv\n",
    "import random\n",
    "import os\n",
    "import pandas as pd\n",
    "import torchaudio\n",
    "import subprocess\n",
    "import tempfile\n",
    "from skimage.transform import resize\n",
    "from skimage.filters import gaussian\n",
    "from skimage.color import rgb2gray\n",
    "from skimage import exposure, util\n",
    "from torchvision.models import resnet101\n",
    "from torch.utils.data import Dataset, DataLoader\n",
    "from tqdm import tqdm\n",
    "from sklearn.model_selection import KFold"
   ]
  },
  {
   "cell_type": "code",
   "execution_count": null,
   "id": "e55c34a2",
   "metadata": {
    "execution": {
     "iopub.execute_input": "2023-10-15T23:19:49.808629Z",
     "iopub.status.busy": "2023-10-15T23:19:49.808059Z",
     "iopub.status.idle": "2023-10-15T23:19:49.871822Z",
     "shell.execute_reply": "2023-10-15T23:19:49.870936Z"
    },
    "papermill": {
     "duration": 0.069497,
     "end_time": "2023-10-15T23:19:49.873546",
     "exception": false,
     "start_time": "2023-10-15T23:19:49.804049",
     "status": "completed"
    },
    "tags": []
   },
   "outputs": [],
   "source": [
    "num_labels = 24\n",
    "device = torch.device('cuda:0' if torch.cuda.is_available() else 'cpu')\n",
    "warnings.filterwarnings('ignore')"
   ]
  },
  {
   "cell_type": "code",
   "execution_count": null,
   "id": "f075a929",
   "metadata": {},
   "outputs": [],
   "source": [
    "def addChannels(img):\n",
    "    return np.stack((img, img, img))\n",
    "\n",
    "def horizontal_flip(img):\n",
    "    horizontal_flip_img = img[:, ::-1]\n",
    "    return addChannels(horizontal_flip_img)\n",
    "\n",
    "def vertical_flip(img):\n",
    "    vertical_flip_img = img[::-1, :]\n",
    "    return addChannels(vertical_flip_img)\n",
    "\n",
    "def addNoisy(img):\n",
    "    noise_img = util.random_noise(img)\n",
    "    return addChannels(noise_img)\n",
    "\n",
    "def contrast_stretching(img):\n",
    "    contrast_img = exposure.rescale_intensity(img)\n",
    "    return addChannels(contrast_img)\n",
    "\n",
    "def randomGaussian(img):\n",
    "    gaussian_img = gaussian(img)\n",
    "    return addChannels(gaussian_img)\n",
    "\n",
    "def randomGamma(img):\n",
    "    img_gamma = exposure.adjust_gamma(img)\n",
    "    return addChannels(img_gamma)\n",
    "\n",
    "def spec_to_image(spec):\n",
    "    spec = resize(spec, (224, 400))\n",
    "    eps=1e-6\n",
    "    mean = spec.mean()\n",
    "    std = spec.std()\n",
    "    spec_norm = (spec - mean) / (std + eps)\n",
    "    spec_min, spec_max = spec_norm.min(), spec_norm.max()\n",
    "    spec_scaled = 255 * (spec_norm - spec_min) / (spec_max - spec_min)\n",
    "    spec_scaled = spec_scaled.astype(np.uint8)\n",
    "    spec_scaled = np.asarray(spec_scaled)\n",
    "    return spec_scaled"
   ]
  },
  {
   "cell_type": "code",
   "execution_count": null,
   "id": "4e742a5a",
   "metadata": {},
   "outputs": [],
   "source": [
    "sr = 48000\n",
    "length = 10 * sr\n",
    "data = pd.read_csv(\"./dataset/train_tp.csv\")\n",
    "\n",
    "fmin = 24000\n",
    "fmax = 0\n",
    "for i in range(0, len(data)):\n",
    "    if fmin > float(data.iloc[i]['f_min']):\n",
    "        fmin = float(data.iloc[i]['f_min'])\n",
    "    if fmax < float(data.iloc[i]['f_max']):\n",
    "        fmax = float(data.iloc[i]['f_max'])\n",
    "        \n",
    "fmin = int(fmin * 0.9)\n",
    "fmax = int(fmax * 1.1)"
   ]
  },
  {
   "cell_type": "code",
   "execution_count": null,
   "id": "5024be4c",
   "metadata": {},
   "outputs": [],
   "source": [
    "def safe_load_audio(path):\n",
    "    try:\n",
    "        waveform, sr = torchaudio.load(path)\n",
    "        return waveform.numpy().squeeze(), sr\n",
    "    except Exception as e:\n",
    "        print(f\"[torchaudio error] {path}: {e}\")\n",
    "        with tempfile.NamedTemporaryFile(suffix=\".wav\", delete=False) as tmpfile:\n",
    "            tmp_wav_path = tmpfile.name\n",
    "        try:\n",
    "            cmd = [\"ffmpeg\", \"-y\", \"-i\", path, tmp_wav_path]\n",
    "            subprocess.run(cmd, stdout=subprocess.DEVNULL, stderr=subprocess.DEVNULL)\n",
    "            waveform, sr = torchaudio.load(tmp_wav_path)\n",
    "            return waveform.numpy().squeeze(), sr\n",
    "        except Exception as e2:\n",
    "            print(f\"[ffmpeg error] {path}: {e2}\")\n",
    "            return None, None\n",
    "        finally:\n",
    "            if os.path.exists(tmp_wav_path):\n",
    "                os.remove(tmp_wav_path)"
   ]
  },
  {
   "cell_type": "code",
   "execution_count": null,
   "id": "0dc93288",
   "metadata": {
    "execution": {
     "iopub.execute_input": "2023-10-15T23:19:49.914347Z",
     "iopub.status.busy": "2023-10-15T23:19:49.913998Z",
     "iopub.status.idle": "2023-10-15T23:24:33.024357Z",
     "shell.execute_reply": "2023-10-15T23:24:33.023042Z"
    },
    "papermill": {
     "duration": 283.122476,
     "end_time": "2023-10-15T23:24:33.028006",
     "exception": false,
     "start_time": "2023-10-15T23:19:49.905530",
     "status": "completed"
    },
    "tags": []
   },
   "outputs": [],
   "source": [
    "label_list = []\n",
    "data_list = []\n",
    "audio_data = {}\n",
    "\n",
    "for i in tqdm(range(len(data))):\n",
    "    row = data.iloc[i]\n",
    "    recording_id = row['recording_id']\n",
    "    species_id = int(row['species_id'])\n",
    "    t_min, t_max = float(row['t_min']), float(row['t_max'])\n",
    "\n",
    "    audio_path = f\"{'./dataset/train/'}{recording_id}.flac\"\n",
    "    wav, sr = safe_load_audio(audio_path)\n",
    "    if wav is None:\n",
    "        continue\n",
    "\n",
    "    center = np.round((t_min + t_max) / 2 * sr)\n",
    "    start = max(0, center - length // 2)\n",
    "    end = min(len(wav), start + length)\n",
    "    start = max(0, end - length)\n",
    "    audio_slice = wav[int(start):int(end)]\n",
    "\n",
    "    spec = librosa.feature.melspectrogram(y=audio_slice, sr=sr, fmin=fmin, fmax=fmax)\n",
    "    spec_db = librosa.power_to_db(spec, top_db=80)\n",
    "    img = spec_to_image(spec_db)\n",
    "\n",
    "    data_list.append(recording_id)\n",
    "    label_list.append(species_id)\n",
    "    audio_data[recording_id] = img"
   ]
  },
  {
   "cell_type": "code",
   "execution_count": null,
   "id": "be23455d",
   "metadata": {
    "execution": {
     "iopub.execute_input": "2023-10-15T23:24:33.045288Z",
     "iopub.status.busy": "2023-10-15T23:24:33.044528Z",
     "iopub.status.idle": "2023-10-15T23:24:33.056701Z",
     "shell.execute_reply": "2023-10-15T23:24:33.055676Z"
    },
    "papermill": {
     "duration": 0.023734,
     "end_time": "2023-10-15T23:24:33.059570",
     "exception": false,
     "start_time": "2023-10-15T23:24:33.035836",
     "status": "completed"
    },
    "tags": []
   },
   "outputs": [],
   "source": [
    "class AudioData(Dataset):\n",
    "    def __init__(self, X, y, data_type):\n",
    "        self.data = []\n",
    "        self.labels = []\n",
    "        self.augs = [addNoisy, contrast_stretching,randomGaussian,randomGamma, vertical_flip, horizontal_flip, addChannels]\n",
    "        self.data_type=data_type\n",
    "        for i in range(0, len(X)):\n",
    "            recording_id = X[i]\n",
    "            label = y[i]\n",
    "            mel_spec = audio_data[recording_id]\n",
    "            self.data.append(mel_spec)\n",
    "            self.labels.append(label)\n",
    "                \n",
    "    def __len__(self):\n",
    "        return len(self.data)\n",
    "\n",
    "    def __getitem__(self, idx):\n",
    "        if self.data_type == \"train\":\n",
    "            aug= random.choice(self.augs)\n",
    "            data = aug(self.data[idx])\n",
    "        else:\n",
    "            data = addChannels(self.data[idx])\n",
    "        return data, self.labels[idx]"
   ]
  },
  {
   "cell_type": "code",
   "execution_count": null,
   "id": "ef3ca288",
   "metadata": {},
   "outputs": [],
   "source": [
    "learning_rate = 2e-4\n",
    "epochs = 20\n",
    "loss_fn = nn.CrossEntropyLoss()"
   ]
  },
  {
   "cell_type": "code",
   "execution_count": null,
   "id": "207d9f9c",
   "metadata": {
    "execution": {
     "iopub.execute_input": "2023-10-15T23:24:33.076042Z",
     "iopub.status.busy": "2023-10-15T23:24:33.075584Z",
     "iopub.status.idle": "2023-10-15T23:24:33.094685Z",
     "shell.execute_reply": "2023-10-15T23:24:33.093617Z"
    },
    "papermill": {
     "duration": 0.030623,
     "end_time": "2023-10-15T23:24:33.097561",
     "exception": false,
     "start_time": "2023-10-15T23:24:33.066938",
     "status": "completed"
    },
    "tags": []
   },
   "outputs": [],
   "source": [
    "def train(model, loss_fn, train_loader, valid_loader, epochs, optimizer, scheduler):\n",
    "    best_model_wts = copy.deepcopy(model.state_dict())\n",
    "    best_acc = 0.0\n",
    "    train_losses = []\n",
    "    valid_losses = []\n",
    "    \n",
    "    for epoch in tqdm(range(1,epochs+1)):\n",
    "        model.train()\n",
    "        batch_losses=[]\n",
    "        for _, data in enumerate(train_loader):\n",
    "            x, y = data\n",
    "            optimizer.zero_grad()\n",
    "            x = x.to(device, dtype=torch.float32)\n",
    "            y = y.to(device, dtype=torch.long)\n",
    "            y_hat = model(x)\n",
    "            loss = loss_fn(y_hat, y)\n",
    "            loss.backward()\n",
    "            batch_losses.append(loss.item())\n",
    "            optimizer.step()\n",
    "        train_losses.append(batch_losses)\n",
    "\n",
    "        model.eval()\n",
    "        batch_losses=[]\n",
    "        trace_y = []\n",
    "        trace_yhat = []\n",
    "        \n",
    "        for _, data in enumerate(valid_loader):\n",
    "            x, y = data\n",
    "            x = x.to(device, dtype=torch.float32)\n",
    "            y = y.to(device, dtype=torch.long)\n",
    "            y_hat = model(x)\n",
    "            loss = loss_fn(y_hat, y)\n",
    "            trace_y.append(y.cpu().detach().numpy())\n",
    "            trace_yhat.append(y_hat.cpu().detach().numpy())      \n",
    "            batch_losses.append(loss.item())\n",
    "        valid_losses.append(batch_losses)\n",
    "        trace_y = np.concatenate(trace_y)\n",
    "        trace_yhat = np.concatenate(trace_yhat)\n",
    "        accuracy = np.mean(trace_yhat.argmax(axis=1)==trace_y)\n",
    "        \n",
    "        print(\"epoch = %d, train_loss = %.5f, val_loss = %.5f, val_accuracy = %.5f\" % (epoch, np.mean(train_losses[-1]), np.mean(valid_losses[-1]), accuracy))\n",
    "\n",
    "        scheduler.step(np.mean(valid_losses[-1]))\n",
    "        if accuracy > best_acc:\n",
    "            best_acc = accuracy\n",
    "            best_model_wts = copy.deepcopy(model.state_dict())\n",
    "\n",
    "    model.load_state_dict(best_model_wts)\n",
    "    return model"
   ]
  },
  {
   "cell_type": "code",
   "execution_count": null,
   "id": "547a741b",
   "metadata": {
    "execution": {
     "iopub.execute_input": "2023-10-15T23:24:33.113603Z",
     "iopub.status.busy": "2023-10-15T23:24:33.113142Z",
     "iopub.status.idle": "2023-10-15T23:59:14.228421Z",
     "shell.execute_reply": "2023-10-15T23:59:14.227463Z"
    },
    "papermill": {
     "duration": 2081.125728,
     "end_time": "2023-10-15T23:59:14.230537",
     "exception": false,
     "start_time": "2023-10-15T23:24:33.104809",
     "status": "completed"
    },
    "tags": []
   },
   "outputs": [
    {
     "name": "stdout",
     "output_type": "stream",
     "text": [
      "Fold 0\n"
     ]
    },
    {
     "name": "stderr",
     "output_type": "stream",
     "text": [
      "Downloading: \"https://download.pytorch.org/models/resnet101-63fe2227.pth\" to /root/.cache/torch/hub/checkpoints/resnet101-63fe2227.pth\n",
      "100%|██████████| 171M/171M [00:00<00:00, 284MB/s]\n",
      "  5%|▌         | 1/20 [00:26<08:16, 26.11s/it]"
     ]
    },
    {
     "name": "stdout",
     "output_type": "stream",
     "text": [
      "epoch = 1, train_loss = 3.00798, val_loss = 2.56881, val_accuracy = 0.25000\n"
     ]
    },
    {
     "name": "stderr",
     "output_type": "stream",
     "text": [
      " 10%|█         | 2/20 [00:46<06:51, 22.85s/it]"
     ]
    },
    {
     "name": "stdout",
     "output_type": "stream",
     "text": [
      "epoch = 2, train_loss = 2.71547, val_loss = 3.01856, val_accuracy = 0.25000\n"
     ]
    },
    {
     "name": "stderr",
     "output_type": "stream",
     "text": [
      " 15%|█▌        | 3/20 [01:07<06:11, 21.84s/it]"
     ]
    },
    {
     "name": "stdout",
     "output_type": "stream",
     "text": [
      "epoch = 3, train_loss = 2.48854, val_loss = 3.11627, val_accuracy = 0.31667\n"
     ]
    },
    {
     "name": "stderr",
     "output_type": "stream",
     "text": [
      " 20%|██        | 4/20 [01:27<05:40, 21.30s/it]"
     ]
    },
    {
     "name": "stdout",
     "output_type": "stream",
     "text": [
      "epoch = 4, train_loss = 2.22845, val_loss = 2.10557, val_accuracy = 0.49167\n"
     ]
    },
    {
     "name": "stderr",
     "output_type": "stream",
     "text": [
      " 25%|██▌       | 5/20 [01:48<05:16, 21.12s/it]"
     ]
    },
    {
     "name": "stdout",
     "output_type": "stream",
     "text": [
      "epoch = 5, train_loss = 2.12518, val_loss = 2.12288, val_accuracy = 0.49167\n"
     ]
    },
    {
     "name": "stderr",
     "output_type": "stream",
     "text": [
      " 30%|███       | 6/20 [02:09<04:53, 20.93s/it]"
     ]
    },
    {
     "name": "stdout",
     "output_type": "stream",
     "text": [
      "epoch = 6, train_loss = 1.87094, val_loss = 1.75304, val_accuracy = 0.55417\n"
     ]
    },
    {
     "name": "stderr",
     "output_type": "stream",
     "text": [
      " 35%|███▌      | 7/20 [02:29<04:30, 20.79s/it]"
     ]
    },
    {
     "name": "stdout",
     "output_type": "stream",
     "text": [
      "epoch = 7, train_loss = 1.83867, val_loss = 1.24491, val_accuracy = 0.66667\n"
     ]
    },
    {
     "name": "stderr",
     "output_type": "stream",
     "text": [
      " 40%|████      | 8/20 [02:50<04:08, 20.70s/it]"
     ]
    },
    {
     "name": "stdout",
     "output_type": "stream",
     "text": [
      "epoch = 8, train_loss = 1.64922, val_loss = 1.30135, val_accuracy = 0.65417\n"
     ]
    },
    {
     "name": "stderr",
     "output_type": "stream",
     "text": [
      " 45%|████▌     | 9/20 [03:10<03:46, 20.63s/it]"
     ]
    },
    {
     "name": "stdout",
     "output_type": "stream",
     "text": [
      "epoch = 9, train_loss = 1.54027, val_loss = 1.23556, val_accuracy = 0.65000\n"
     ]
    },
    {
     "name": "stderr",
     "output_type": "stream",
     "text": [
      " 50%|█████     | 10/20 [03:31<03:26, 20.61s/it]"
     ]
    },
    {
     "name": "stdout",
     "output_type": "stream",
     "text": [
      "epoch = 10, train_loss = 1.50700, val_loss = 1.45188, val_accuracy = 0.63333\n"
     ]
    },
    {
     "name": "stderr",
     "output_type": "stream",
     "text": [
      " 55%|█████▌    | 11/20 [03:51<03:05, 20.62s/it]"
     ]
    },
    {
     "name": "stdout",
     "output_type": "stream",
     "text": [
      "epoch = 11, train_loss = 1.42224, val_loss = 1.33594, val_accuracy = 0.69583\n"
     ]
    },
    {
     "name": "stderr",
     "output_type": "stream",
     "text": [
      " 60%|██████    | 12/20 [04:12<02:44, 20.57s/it]"
     ]
    },
    {
     "name": "stdout",
     "output_type": "stream",
     "text": [
      "epoch = 12, train_loss = 1.27715, val_loss = 1.28129, val_accuracy = 0.67083\n"
     ]
    },
    {
     "name": "stderr",
     "output_type": "stream",
     "text": [
      " 65%|██████▌   | 13/20 [04:32<02:23, 20.54s/it]"
     ]
    },
    {
     "name": "stdout",
     "output_type": "stream",
     "text": [
      "epoch = 13, train_loss = 1.13402, val_loss = 1.18289, val_accuracy = 0.68750\n"
     ]
    },
    {
     "name": "stderr",
     "output_type": "stream",
     "text": [
      " 70%|███████   | 14/20 [04:53<02:03, 20.55s/it]"
     ]
    },
    {
     "name": "stdout",
     "output_type": "stream",
     "text": [
      "epoch = 14, train_loss = 1.13569, val_loss = 1.23145, val_accuracy = 0.66667\n"
     ]
    },
    {
     "name": "stderr",
     "output_type": "stream",
     "text": [
      " 75%|███████▌  | 15/20 [05:13<01:42, 20.49s/it]"
     ]
    },
    {
     "name": "stdout",
     "output_type": "stream",
     "text": [
      "epoch = 15, train_loss = 1.05641, val_loss = 1.32466, val_accuracy = 0.67083\n"
     ]
    },
    {
     "name": "stderr",
     "output_type": "stream",
     "text": [
      " 80%|████████  | 16/20 [05:34<01:21, 20.50s/it]"
     ]
    },
    {
     "name": "stdout",
     "output_type": "stream",
     "text": [
      "epoch = 16, train_loss = 1.07223, val_loss = 1.21676, val_accuracy = 0.70833\n"
     ]
    },
    {
     "name": "stderr",
     "output_type": "stream",
     "text": [
      " 85%|████████▌ | 17/20 [05:54<01:01, 20.51s/it]"
     ]
    },
    {
     "name": "stdout",
     "output_type": "stream",
     "text": [
      "epoch = 17, train_loss = 0.89545, val_loss = 1.17584, val_accuracy = 0.69583\n"
     ]
    },
    {
     "name": "stderr",
     "output_type": "stream",
     "text": [
      " 90%|█████████ | 18/20 [06:15<00:41, 20.50s/it]"
     ]
    },
    {
     "name": "stdout",
     "output_type": "stream",
     "text": [
      "epoch = 18, train_loss = 0.94487, val_loss = 1.01126, val_accuracy = 0.76250\n"
     ]
    },
    {
     "name": "stderr",
     "output_type": "stream",
     "text": [
      " 95%|█████████▌| 19/20 [06:35<00:20, 20.54s/it]"
     ]
    },
    {
     "name": "stdout",
     "output_type": "stream",
     "text": [
      "epoch = 19, train_loss = 0.85868, val_loss = 1.15693, val_accuracy = 0.74583\n"
     ]
    },
    {
     "name": "stderr",
     "output_type": "stream",
     "text": [
      "100%|██████████| 20/20 [06:56<00:00, 20.83s/it]"
     ]
    },
    {
     "name": "stdout",
     "output_type": "stream",
     "text": [
      "epoch = 20, train_loss = 0.73619, val_loss = 1.33360, val_accuracy = 0.68750\n"
     ]
    },
    {
     "name": "stderr",
     "output_type": "stream",
     "text": [
      "\n"
     ]
    },
    {
     "name": "stdout",
     "output_type": "stream",
     "text": [
      "Fold 1\n"
     ]
    },
    {
     "name": "stderr",
     "output_type": "stream",
     "text": [
      "  5%|▌         | 1/20 [00:20<06:30, 20.57s/it]"
     ]
    },
    {
     "name": "stdout",
     "output_type": "stream",
     "text": [
      "epoch = 1, train_loss = 3.03822, val_loss = 2.62037, val_accuracy = 0.27083\n"
     ]
    },
    {
     "name": "stderr",
     "output_type": "stream",
     "text": [
      " 10%|█         | 2/20 [00:41<06:10, 20.60s/it]"
     ]
    },
    {
     "name": "stdout",
     "output_type": "stream",
     "text": [
      "epoch = 2, train_loss = 2.61069, val_loss = 4.34926, val_accuracy = 0.14167\n"
     ]
    },
    {
     "name": "stderr",
     "output_type": "stream",
     "text": [
      " 15%|█▌        | 3/20 [01:01<05:51, 20.66s/it]"
     ]
    },
    {
     "name": "stdout",
     "output_type": "stream",
     "text": [
      "epoch = 3, train_loss = 2.47784, val_loss = 2.83374, val_accuracy = 0.39583\n"
     ]
    },
    {
     "name": "stderr",
     "output_type": "stream",
     "text": [
      " 20%|██        | 4/20 [01:22<05:30, 20.65s/it]"
     ]
    },
    {
     "name": "stdout",
     "output_type": "stream",
     "text": [
      "epoch = 4, train_loss = 2.17087, val_loss = 1.81135, val_accuracy = 0.52083\n"
     ]
    },
    {
     "name": "stderr",
     "output_type": "stream",
     "text": [
      " 25%|██▌       | 5/20 [01:43<05:09, 20.62s/it]"
     ]
    },
    {
     "name": "stdout",
     "output_type": "stream",
     "text": [
      "epoch = 5, train_loss = 1.98487, val_loss = 2.06827, val_accuracy = 0.54167\n"
     ]
    },
    {
     "name": "stderr",
     "output_type": "stream",
     "text": [
      " 30%|███       | 6/20 [02:03<04:48, 20.60s/it]"
     ]
    },
    {
     "name": "stdout",
     "output_type": "stream",
     "text": [
      "epoch = 6, train_loss = 1.93574, val_loss = 2.32169, val_accuracy = 0.47500\n"
     ]
    },
    {
     "name": "stderr",
     "output_type": "stream",
     "text": [
      " 35%|███▌      | 7/20 [02:24<04:28, 20.62s/it]"
     ]
    },
    {
     "name": "stdout",
     "output_type": "stream",
     "text": [
      "epoch = 7, train_loss = 1.89814, val_loss = 1.79292, val_accuracy = 0.61250\n"
     ]
    },
    {
     "name": "stderr",
     "output_type": "stream",
     "text": [
      " 40%|████      | 8/20 [02:44<04:07, 20.63s/it]"
     ]
    },
    {
     "name": "stdout",
     "output_type": "stream",
     "text": [
      "epoch = 8, train_loss = 1.77715, val_loss = 1.35627, val_accuracy = 0.66250\n"
     ]
    },
    {
     "name": "stderr",
     "output_type": "stream",
     "text": [
      " 45%|████▌     | 9/20 [03:05<03:46, 20.63s/it]"
     ]
    },
    {
     "name": "stdout",
     "output_type": "stream",
     "text": [
      "epoch = 9, train_loss = 1.66600, val_loss = 1.63083, val_accuracy = 0.64167\n"
     ]
    },
    {
     "name": "stderr",
     "output_type": "stream",
     "text": [
      " 50%|█████     | 10/20 [03:26<03:26, 20.62s/it]"
     ]
    },
    {
     "name": "stdout",
     "output_type": "stream",
     "text": [
      "epoch = 10, train_loss = 1.54697, val_loss = 1.77421, val_accuracy = 0.65000\n"
     ]
    },
    {
     "name": "stderr",
     "output_type": "stream",
     "text": [
      " 55%|█████▌    | 11/20 [03:46<03:05, 20.63s/it]"
     ]
    },
    {
     "name": "stdout",
     "output_type": "stream",
     "text": [
      "epoch = 11, train_loss = 1.51715, val_loss = 1.94928, val_accuracy = 0.65417\n"
     ]
    },
    {
     "name": "stderr",
     "output_type": "stream",
     "text": [
      " 60%|██████    | 12/20 [04:07<02:45, 20.63s/it]"
     ]
    },
    {
     "name": "stdout",
     "output_type": "stream",
     "text": [
      "epoch = 12, train_loss = 1.49216, val_loss = 1.96793, val_accuracy = 0.58333\n"
     ]
    },
    {
     "name": "stderr",
     "output_type": "stream",
     "text": [
      " 65%|██████▌   | 13/20 [04:28<02:25, 20.74s/it]"
     ]
    },
    {
     "name": "stdout",
     "output_type": "stream",
     "text": [
      "epoch = 13, train_loss = 1.45152, val_loss = 1.35586, val_accuracy = 0.73333\n"
     ]
    },
    {
     "name": "stderr",
     "output_type": "stream",
     "text": [
      " 70%|███████   | 14/20 [04:49<02:04, 20.74s/it]"
     ]
    },
    {
     "name": "stdout",
     "output_type": "stream",
     "text": [
      "epoch = 14, train_loss = 1.28054, val_loss = 1.15343, val_accuracy = 0.77500\n"
     ]
    },
    {
     "name": "stderr",
     "output_type": "stream",
     "text": [
      " 75%|███████▌  | 15/20 [05:09<01:43, 20.69s/it]"
     ]
    },
    {
     "name": "stdout",
     "output_type": "stream",
     "text": [
      "epoch = 15, train_loss = 1.22433, val_loss = 1.25306, val_accuracy = 0.76250\n"
     ]
    },
    {
     "name": "stderr",
     "output_type": "stream",
     "text": [
      " 80%|████████  | 16/20 [05:30<01:22, 20.68s/it]"
     ]
    },
    {
     "name": "stdout",
     "output_type": "stream",
     "text": [
      "epoch = 16, train_loss = 1.16583, val_loss = 1.26968, val_accuracy = 0.77500\n"
     ]
    },
    {
     "name": "stderr",
     "output_type": "stream",
     "text": [
      " 85%|████████▌ | 17/20 [05:51<01:02, 20.69s/it]"
     ]
    },
    {
     "name": "stdout",
     "output_type": "stream",
     "text": [
      "epoch = 17, train_loss = 1.25517, val_loss = 1.17555, val_accuracy = 0.77500\n"
     ]
    },
    {
     "name": "stderr",
     "output_type": "stream",
     "text": [
      " 90%|█████████ | 18/20 [06:11<00:41, 20.67s/it]"
     ]
    },
    {
     "name": "stdout",
     "output_type": "stream",
     "text": [
      "epoch = 18, train_loss = 1.18120, val_loss = 1.16343, val_accuracy = 0.76667\n"
     ]
    },
    {
     "name": "stderr",
     "output_type": "stream",
     "text": [
      " 95%|█████████▌| 19/20 [06:32<00:20, 20.67s/it]"
     ]
    },
    {
     "name": "stdout",
     "output_type": "stream",
     "text": [
      "epoch = 19, train_loss = 1.25095, val_loss = 1.23244, val_accuracy = 0.78750\n"
     ]
    },
    {
     "name": "stderr",
     "output_type": "stream",
     "text": [
      "100%|██████████| 20/20 [06:53<00:00, 20.66s/it]"
     ]
    },
    {
     "name": "stdout",
     "output_type": "stream",
     "text": [
      "epoch = 20, train_loss = 1.18897, val_loss = 1.18092, val_accuracy = 0.77917\n"
     ]
    },
    {
     "name": "stderr",
     "output_type": "stream",
     "text": [
      "\n"
     ]
    },
    {
     "name": "stdout",
     "output_type": "stream",
     "text": [
      "Fold 2\n"
     ]
    },
    {
     "name": "stderr",
     "output_type": "stream",
     "text": [
      "  5%|▌         | 1/20 [00:20<06:32, 20.64s/it]"
     ]
    },
    {
     "name": "stdout",
     "output_type": "stream",
     "text": [
      "epoch = 1, train_loss = 3.02771, val_loss = 2.94646, val_accuracy = 0.27917\n"
     ]
    },
    {
     "name": "stderr",
     "output_type": "stream",
     "text": [
      " 10%|█         | 2/20 [00:41<06:13, 20.75s/it]"
     ]
    },
    {
     "name": "stdout",
     "output_type": "stream",
     "text": [
      "epoch = 2, train_loss = 2.69436, val_loss = 2.51912, val_accuracy = 0.32917\n"
     ]
    },
    {
     "name": "stderr",
     "output_type": "stream",
     "text": [
      " 15%|█▌        | 3/20 [01:02<05:52, 20.76s/it]"
     ]
    },
    {
     "name": "stdout",
     "output_type": "stream",
     "text": [
      "epoch = 3, train_loss = 2.46153, val_loss = 2.00526, val_accuracy = 0.46250\n"
     ]
    },
    {
     "name": "stderr",
     "output_type": "stream",
     "text": [
      " 20%|██        | 4/20 [01:22<05:31, 20.75s/it]"
     ]
    },
    {
     "name": "stdout",
     "output_type": "stream",
     "text": [
      "epoch = 4, train_loss = 2.27563, val_loss = 2.87541, val_accuracy = 0.41250\n"
     ]
    },
    {
     "name": "stderr",
     "output_type": "stream",
     "text": [
      " 25%|██▌       | 5/20 [01:43<05:11, 20.75s/it]"
     ]
    },
    {
     "name": "stdout",
     "output_type": "stream",
     "text": [
      "epoch = 5, train_loss = 2.14671, val_loss = 1.64427, val_accuracy = 0.57083\n"
     ]
    },
    {
     "name": "stderr",
     "output_type": "stream",
     "text": [
      " 30%|███       | 6/20 [02:04<04:50, 20.73s/it]"
     ]
    },
    {
     "name": "stdout",
     "output_type": "stream",
     "text": [
      "epoch = 6, train_loss = 1.95475, val_loss = 1.50898, val_accuracy = 0.59583\n"
     ]
    },
    {
     "name": "stderr",
     "output_type": "stream",
     "text": [
      " 35%|███▌      | 7/20 [02:25<04:29, 20.73s/it]"
     ]
    },
    {
     "name": "stdout",
     "output_type": "stream",
     "text": [
      "epoch = 7, train_loss = 1.82259, val_loss = 2.00463, val_accuracy = 0.52917\n"
     ]
    },
    {
     "name": "stderr",
     "output_type": "stream",
     "text": [
      " 40%|████      | 8/20 [02:45<04:09, 20.76s/it]"
     ]
    },
    {
     "name": "stdout",
     "output_type": "stream",
     "text": [
      "epoch = 8, train_loss = 1.82369, val_loss = 1.27398, val_accuracy = 0.70417\n"
     ]
    },
    {
     "name": "stderr",
     "output_type": "stream",
     "text": [
      " 45%|████▌     | 9/20 [03:06<03:48, 20.76s/it]"
     ]
    },
    {
     "name": "stdout",
     "output_type": "stream",
     "text": [
      "epoch = 9, train_loss = 1.77711, val_loss = 10.86437, val_accuracy = 0.30833\n"
     ]
    },
    {
     "name": "stderr",
     "output_type": "stream",
     "text": [
      " 50%|█████     | 10/20 [03:27<03:27, 20.76s/it]"
     ]
    },
    {
     "name": "stdout",
     "output_type": "stream",
     "text": [
      "epoch = 10, train_loss = 1.72009, val_loss = 1.55019, val_accuracy = 0.64167\n"
     ]
    },
    {
     "name": "stderr",
     "output_type": "stream",
     "text": [
      " 55%|█████▌    | 11/20 [03:48<03:06, 20.75s/it]"
     ]
    },
    {
     "name": "stdout",
     "output_type": "stream",
     "text": [
      "epoch = 11, train_loss = 1.56112, val_loss = 1.49614, val_accuracy = 0.66250\n"
     ]
    },
    {
     "name": "stderr",
     "output_type": "stream",
     "text": [
      " 60%|██████    | 12/20 [04:08<02:45, 20.72s/it]"
     ]
    },
    {
     "name": "stdout",
     "output_type": "stream",
     "text": [
      "epoch = 12, train_loss = 1.58813, val_loss = 1.40656, val_accuracy = 0.64167\n"
     ]
    },
    {
     "name": "stderr",
     "output_type": "stream",
     "text": [
      " 65%|██████▌   | 13/20 [04:29<02:25, 20.75s/it]"
     ]
    },
    {
     "name": "stdout",
     "output_type": "stream",
     "text": [
      "epoch = 13, train_loss = 1.44912, val_loss = 0.97748, val_accuracy = 0.77083\n"
     ]
    },
    {
     "name": "stderr",
     "output_type": "stream",
     "text": [
      " 70%|███████   | 14/20 [04:50<02:04, 20.74s/it]"
     ]
    },
    {
     "name": "stdout",
     "output_type": "stream",
     "text": [
      "epoch = 14, train_loss = 1.31713, val_loss = 1.00303, val_accuracy = 0.76250\n"
     ]
    },
    {
     "name": "stderr",
     "output_type": "stream",
     "text": [
      " 75%|███████▌  | 15/20 [05:11<01:43, 20.74s/it]"
     ]
    },
    {
     "name": "stdout",
     "output_type": "stream",
     "text": [
      "epoch = 15, train_loss = 1.30521, val_loss = 0.98059, val_accuracy = 0.78750\n"
     ]
    },
    {
     "name": "stderr",
     "output_type": "stream",
     "text": [
      " 80%|████████  | 16/20 [05:31<01:22, 20.73s/it]"
     ]
    },
    {
     "name": "stdout",
     "output_type": "stream",
     "text": [
      "epoch = 16, train_loss = 1.23111, val_loss = 0.97149, val_accuracy = 0.76667\n"
     ]
    },
    {
     "name": "stderr",
     "output_type": "stream",
     "text": [
      " 85%|████████▌ | 17/20 [05:52<01:02, 20.74s/it]"
     ]
    },
    {
     "name": "stdout",
     "output_type": "stream",
     "text": [
      "epoch = 17, train_loss = 1.28593, val_loss = 1.01176, val_accuracy = 0.75833\n"
     ]
    },
    {
     "name": "stderr",
     "output_type": "stream",
     "text": [
      " 90%|█████████ | 18/20 [06:13<00:41, 20.70s/it]"
     ]
    },
    {
     "name": "stdout",
     "output_type": "stream",
     "text": [
      "epoch = 18, train_loss = 1.24422, val_loss = 0.94864, val_accuracy = 0.77917\n"
     ]
    },
    {
     "name": "stderr",
     "output_type": "stream",
     "text": [
      " 95%|█████████▌| 19/20 [06:33<00:20, 20.68s/it]"
     ]
    },
    {
     "name": "stdout",
     "output_type": "stream",
     "text": [
      "epoch = 19, train_loss = 1.16258, val_loss = 0.95239, val_accuracy = 0.78750\n"
     ]
    },
    {
     "name": "stderr",
     "output_type": "stream",
     "text": [
      "100%|██████████| 20/20 [06:54<00:00, 20.73s/it]"
     ]
    },
    {
     "name": "stdout",
     "output_type": "stream",
     "text": [
      "epoch = 20, train_loss = 1.18772, val_loss = 1.00408, val_accuracy = 0.79583\n"
     ]
    },
    {
     "name": "stderr",
     "output_type": "stream",
     "text": [
      "\n"
     ]
    },
    {
     "name": "stdout",
     "output_type": "stream",
     "text": [
      "Fold 3\n"
     ]
    },
    {
     "name": "stderr",
     "output_type": "stream",
     "text": [
      "  5%|▌         | 1/20 [00:20<06:34, 20.77s/it]"
     ]
    },
    {
     "name": "stdout",
     "output_type": "stream",
     "text": [
      "epoch = 1, train_loss = 3.07657, val_loss = 2.91900, val_accuracy = 0.22917\n"
     ]
    },
    {
     "name": "stderr",
     "output_type": "stream",
     "text": [
      " 10%|█         | 2/20 [00:41<06:13, 20.73s/it]"
     ]
    },
    {
     "name": "stdout",
     "output_type": "stream",
     "text": [
      "epoch = 2, train_loss = 2.80015, val_loss = 2.30610, val_accuracy = 0.27083\n"
     ]
    },
    {
     "name": "stderr",
     "output_type": "stream",
     "text": [
      " 15%|█▌        | 3/20 [01:02<05:51, 20.69s/it]"
     ]
    },
    {
     "name": "stdout",
     "output_type": "stream",
     "text": [
      "epoch = 3, train_loss = 2.56895, val_loss = 1.79790, val_accuracy = 0.48750\n"
     ]
    },
    {
     "name": "stderr",
     "output_type": "stream",
     "text": [
      " 20%|██        | 4/20 [01:22<05:29, 20.62s/it]"
     ]
    },
    {
     "name": "stdout",
     "output_type": "stream",
     "text": [
      "epoch = 4, train_loss = 2.37778, val_loss = 1.79673, val_accuracy = 0.53333\n"
     ]
    },
    {
     "name": "stderr",
     "output_type": "stream",
     "text": [
      " 25%|██▌       | 5/20 [01:43<05:09, 20.61s/it]"
     ]
    },
    {
     "name": "stdout",
     "output_type": "stream",
     "text": [
      "epoch = 5, train_loss = 2.17384, val_loss = 1.54803, val_accuracy = 0.55833\n"
     ]
    },
    {
     "name": "stderr",
     "output_type": "stream",
     "text": [
      " 30%|███       | 6/20 [02:03<04:48, 20.60s/it]"
     ]
    },
    {
     "name": "stdout",
     "output_type": "stream",
     "text": [
      "epoch = 6, train_loss = 2.00449, val_loss = 1.55582, val_accuracy = 0.60000\n"
     ]
    },
    {
     "name": "stderr",
     "output_type": "stream",
     "text": [
      " 35%|███▌      | 7/20 [02:24<04:28, 20.66s/it]"
     ]
    },
    {
     "name": "stdout",
     "output_type": "stream",
     "text": [
      "epoch = 7, train_loss = 1.92951, val_loss = 1.28939, val_accuracy = 0.70833\n"
     ]
    },
    {
     "name": "stderr",
     "output_type": "stream",
     "text": [
      " 40%|████      | 8/20 [02:45<04:08, 20.68s/it]"
     ]
    },
    {
     "name": "stdout",
     "output_type": "stream",
     "text": [
      "epoch = 8, train_loss = 1.83323, val_loss = 1.92612, val_accuracy = 0.60417\n"
     ]
    },
    {
     "name": "stderr",
     "output_type": "stream",
     "text": [
      " 45%|████▌     | 9/20 [03:06<03:47, 20.70s/it]"
     ]
    },
    {
     "name": "stdout",
     "output_type": "stream",
     "text": [
      "epoch = 9, train_loss = 1.84415, val_loss = 1.15501, val_accuracy = 0.72083\n"
     ]
    },
    {
     "name": "stderr",
     "output_type": "stream",
     "text": [
      " 50%|█████     | 10/20 [03:26<03:27, 20.74s/it]"
     ]
    },
    {
     "name": "stdout",
     "output_type": "stream",
     "text": [
      "epoch = 10, train_loss = 1.76207, val_loss = 1.38075, val_accuracy = 0.73333\n"
     ]
    },
    {
     "name": "stderr",
     "output_type": "stream",
     "text": [
      " 55%|█████▌    | 11/20 [03:47<03:06, 20.74s/it]"
     ]
    },
    {
     "name": "stdout",
     "output_type": "stream",
     "text": [
      "epoch = 11, train_loss = 1.73578, val_loss = 1.91837, val_accuracy = 0.60000\n"
     ]
    },
    {
     "name": "stderr",
     "output_type": "stream",
     "text": [
      " 60%|██████    | 12/20 [04:08<02:45, 20.73s/it]"
     ]
    },
    {
     "name": "stdout",
     "output_type": "stream",
     "text": [
      "epoch = 12, train_loss = 1.66350, val_loss = 1.43817, val_accuracy = 0.68750\n"
     ]
    },
    {
     "name": "stderr",
     "output_type": "stream",
     "text": [
      " 65%|██████▌   | 13/20 [04:29<02:25, 20.75s/it]"
     ]
    },
    {
     "name": "stdout",
     "output_type": "stream",
     "text": [
      "epoch = 13, train_loss = 1.63335, val_loss = 1.34132, val_accuracy = 0.70417\n"
     ]
    },
    {
     "name": "stderr",
     "output_type": "stream",
     "text": [
      " 70%|███████   | 14/20 [04:49<02:04, 20.77s/it]"
     ]
    },
    {
     "name": "stdout",
     "output_type": "stream",
     "text": [
      "epoch = 14, train_loss = 1.35298, val_loss = 1.13178, val_accuracy = 0.75000\n"
     ]
    },
    {
     "name": "stderr",
     "output_type": "stream",
     "text": [
      " 75%|███████▌  | 15/20 [05:10<01:44, 20.82s/it]"
     ]
    },
    {
     "name": "stdout",
     "output_type": "stream",
     "text": [
      "epoch = 15, train_loss = 1.31360, val_loss = 1.08978, val_accuracy = 0.75417\n"
     ]
    },
    {
     "name": "stderr",
     "output_type": "stream",
     "text": [
      " 80%|████████  | 16/20 [05:31<01:23, 20.80s/it]"
     ]
    },
    {
     "name": "stdout",
     "output_type": "stream",
     "text": [
      "epoch = 16, train_loss = 1.23376, val_loss = 1.12523, val_accuracy = 0.73750\n"
     ]
    },
    {
     "name": "stderr",
     "output_type": "stream",
     "text": [
      " 85%|████████▌ | 17/20 [05:52<01:02, 20.78s/it]"
     ]
    },
    {
     "name": "stdout",
     "output_type": "stream",
     "text": [
      "epoch = 17, train_loss = 1.16944, val_loss = 1.06830, val_accuracy = 0.75417\n"
     ]
    },
    {
     "name": "stderr",
     "output_type": "stream",
     "text": [
      " 90%|█████████ | 18/20 [06:13<00:41, 20.76s/it]"
     ]
    },
    {
     "name": "stdout",
     "output_type": "stream",
     "text": [
      "epoch = 18, train_loss = 1.23203, val_loss = 0.98734, val_accuracy = 0.77083\n"
     ]
    },
    {
     "name": "stderr",
     "output_type": "stream",
     "text": [
      " 95%|█████████▌| 19/20 [06:33<00:20, 20.81s/it]"
     ]
    },
    {
     "name": "stdout",
     "output_type": "stream",
     "text": [
      "epoch = 19, train_loss = 1.30541, val_loss = 1.03949, val_accuracy = 0.77083\n"
     ]
    },
    {
     "name": "stderr",
     "output_type": "stream",
     "text": [
      "100%|██████████| 20/20 [06:54<00:00, 20.73s/it]"
     ]
    },
    {
     "name": "stdout",
     "output_type": "stream",
     "text": [
      "epoch = 20, train_loss = 1.12691, val_loss = 0.99874, val_accuracy = 0.77917\n"
     ]
    },
    {
     "name": "stderr",
     "output_type": "stream",
     "text": [
      "\n"
     ]
    },
    {
     "name": "stdout",
     "output_type": "stream",
     "text": [
      "Fold 4\n"
     ]
    },
    {
     "name": "stderr",
     "output_type": "stream",
     "text": [
      "  5%|▌         | 1/20 [00:20<06:31, 20.58s/it]"
     ]
    },
    {
     "name": "stdout",
     "output_type": "stream",
     "text": [
      "epoch = 1, train_loss = 3.01601, val_loss = 6.40297, val_accuracy = 0.18333\n"
     ]
    },
    {
     "name": "stderr",
     "output_type": "stream",
     "text": [
      " 10%|█         | 2/20 [00:41<06:11, 20.66s/it]"
     ]
    },
    {
     "name": "stdout",
     "output_type": "stream",
     "text": [
      "epoch = 2, train_loss = 2.66518, val_loss = 2.31184, val_accuracy = 0.42083\n"
     ]
    },
    {
     "name": "stderr",
     "output_type": "stream",
     "text": [
      " 15%|█▌        | 3/20 [01:01<05:50, 20.63s/it]"
     ]
    },
    {
     "name": "stdout",
     "output_type": "stream",
     "text": [
      "epoch = 3, train_loss = 2.43312, val_loss = 2.21704, val_accuracy = 0.42917\n"
     ]
    },
    {
     "name": "stderr",
     "output_type": "stream",
     "text": [
      " 20%|██        | 4/20 [01:22<05:29, 20.58s/it]"
     ]
    },
    {
     "name": "stdout",
     "output_type": "stream",
     "text": [
      "epoch = 4, train_loss = 2.30936, val_loss = 1.68958, val_accuracy = 0.50417\n"
     ]
    },
    {
     "name": "stderr",
     "output_type": "stream",
     "text": [
      " 25%|██▌       | 5/20 [01:43<05:08, 20.60s/it]"
     ]
    },
    {
     "name": "stdout",
     "output_type": "stream",
     "text": [
      "epoch = 5, train_loss = 2.11652, val_loss = 1.87662, val_accuracy = 0.53750\n"
     ]
    },
    {
     "name": "stderr",
     "output_type": "stream",
     "text": [
      " 30%|███       | 6/20 [02:03<04:48, 20.60s/it]"
     ]
    },
    {
     "name": "stdout",
     "output_type": "stream",
     "text": [
      "epoch = 6, train_loss = 2.07532, val_loss = 2.18421, val_accuracy = 0.53333\n"
     ]
    },
    {
     "name": "stderr",
     "output_type": "stream",
     "text": [
      " 35%|███▌      | 7/20 [02:24<04:27, 20.58s/it]"
     ]
    },
    {
     "name": "stdout",
     "output_type": "stream",
     "text": [
      "epoch = 7, train_loss = 1.85438, val_loss = 1.62811, val_accuracy = 0.66667\n"
     ]
    },
    {
     "name": "stderr",
     "output_type": "stream",
     "text": [
      " 40%|████      | 8/20 [02:44<04:07, 20.65s/it]"
     ]
    },
    {
     "name": "stdout",
     "output_type": "stream",
     "text": [
      "epoch = 8, train_loss = 1.84862, val_loss = 1.50382, val_accuracy = 0.63750\n"
     ]
    },
    {
     "name": "stderr",
     "output_type": "stream",
     "text": [
      " 45%|████▌     | 9/20 [03:05<03:46, 20.62s/it]"
     ]
    },
    {
     "name": "stdout",
     "output_type": "stream",
     "text": [
      "epoch = 9, train_loss = 1.79377, val_loss = 1.57519, val_accuracy = 0.61250\n"
     ]
    },
    {
     "name": "stderr",
     "output_type": "stream",
     "text": [
      " 50%|█████     | 10/20 [03:25<03:25, 20.58s/it]"
     ]
    },
    {
     "name": "stdout",
     "output_type": "stream",
     "text": [
      "epoch = 10, train_loss = 1.66796, val_loss = 1.41090, val_accuracy = 0.66667\n"
     ]
    },
    {
     "name": "stderr",
     "output_type": "stream",
     "text": [
      " 55%|█████▌    | 11/20 [03:46<03:05, 20.60s/it]"
     ]
    },
    {
     "name": "stdout",
     "output_type": "stream",
     "text": [
      "epoch = 11, train_loss = 1.66882, val_loss = 1.45409, val_accuracy = 0.71667\n"
     ]
    },
    {
     "name": "stderr",
     "output_type": "stream",
     "text": [
      " 60%|██████    | 12/20 [04:07<02:44, 20.57s/it]"
     ]
    },
    {
     "name": "stdout",
     "output_type": "stream",
     "text": [
      "epoch = 12, train_loss = 1.59568, val_loss = 1.22810, val_accuracy = 0.72500\n"
     ]
    },
    {
     "name": "stderr",
     "output_type": "stream",
     "text": [
      " 65%|██████▌   | 13/20 [04:27<02:23, 20.56s/it]"
     ]
    },
    {
     "name": "stdout",
     "output_type": "stream",
     "text": [
      "epoch = 13, train_loss = 1.46231, val_loss = 1.54104, val_accuracy = 0.70417\n"
     ]
    },
    {
     "name": "stderr",
     "output_type": "stream",
     "text": [
      " 70%|███████   | 14/20 [04:48<02:03, 20.58s/it]"
     ]
    },
    {
     "name": "stdout",
     "output_type": "stream",
     "text": [
      "epoch = 14, train_loss = 1.49215, val_loss = 1.28003, val_accuracy = 0.75000\n"
     ]
    },
    {
     "name": "stderr",
     "output_type": "stream",
     "text": [
      " 75%|███████▌  | 15/20 [05:08<01:42, 20.56s/it]"
     ]
    },
    {
     "name": "stdout",
     "output_type": "stream",
     "text": [
      "epoch = 15, train_loss = 1.40442, val_loss = 1.38032, val_accuracy = 0.66667\n"
     ]
    },
    {
     "name": "stderr",
     "output_type": "stream",
     "text": [
      " 80%|████████  | 16/20 [05:29<01:22, 20.56s/it]"
     ]
    },
    {
     "name": "stdout",
     "output_type": "stream",
     "text": [
      "epoch = 16, train_loss = 1.45534, val_loss = 1.31229, val_accuracy = 0.73333\n"
     ]
    },
    {
     "name": "stderr",
     "output_type": "stream",
     "text": [
      " 85%|████████▌ | 17/20 [05:50<01:01, 20.59s/it]"
     ]
    },
    {
     "name": "stdout",
     "output_type": "stream",
     "text": [
      "epoch = 17, train_loss = 1.32022, val_loss = 1.07613, val_accuracy = 0.75833\n"
     ]
    },
    {
     "name": "stderr",
     "output_type": "stream",
     "text": [
      " 90%|█████████ | 18/20 [06:10<00:41, 20.58s/it]"
     ]
    },
    {
     "name": "stdout",
     "output_type": "stream",
     "text": [
      "epoch = 18, train_loss = 1.21471, val_loss = 1.13709, val_accuracy = 0.78750\n"
     ]
    },
    {
     "name": "stderr",
     "output_type": "stream",
     "text": [
      " 95%|█████████▌| 19/20 [06:31<00:20, 20.59s/it]"
     ]
    },
    {
     "name": "stdout",
     "output_type": "stream",
     "text": [
      "epoch = 19, train_loss = 1.18850, val_loss = 1.10911, val_accuracy = 0.78750\n"
     ]
    },
    {
     "name": "stderr",
     "output_type": "stream",
     "text": [
      "100%|██████████| 20/20 [06:51<00:00, 20.59s/it]"
     ]
    },
    {
     "name": "stdout",
     "output_type": "stream",
     "text": [
      "epoch = 20, train_loss = 1.24220, val_loss = 1.08144, val_accuracy = 0.78750\n"
     ]
    },
    {
     "name": "stderr",
     "output_type": "stream",
     "text": [
      "\n"
     ]
    }
   ],
   "source": [
    "nfold = 5\n",
    "skf = KFold(n_splits=nfold, shuffle=True, random_state=32)\n",
    "\n",
    "for fold_id, (train_index, val_index) in enumerate(skf.split(data_list, label_list)):\n",
    "    print(\"Fold\", fold_id)\n",
    "    X_train = np.take(data_list, train_index)\n",
    "    y_train = np.take(label_list, train_index, axis = 0)\n",
    "    X_val = np.take(data_list, val_index)\n",
    "    y_val = np.take(label_list, val_index, axis = 0)\n",
    "\n",
    "    train_data = AudioData(X_train, y_train, \"train\")\n",
    "    valid_data = AudioData(X_val, y_val, \"valid\")\n",
    "    train_loader = DataLoader(train_data, batch_size=8, shuffle=True, drop_last=True)\n",
    "    valid_loader = DataLoader(valid_data, batch_size=8, shuffle=True, drop_last=True)\n",
    "\n",
    "    model = resnet101(pretrained=True)\n",
    "    num_ftrs = model.fc.in_features\n",
    "    model.fc = nn.Linear(num_ftrs, num_labels)\n",
    "    model = model.to(device)\n",
    "    optimizer = torch.optim.Adam(model.parameters(), lr=learning_rate)\n",
    "    scheduler = torch.optim.lr_scheduler.ReduceLROnPlateau(optimizer, 'min', patience=3)\n",
    "    model = train(model, loss_fn, train_loader, valid_loader, epochs, optimizer, scheduler)\n",
    "    torch.save(model.state_dict(), \"./model\" + str(fold_id) + \".pt\")\n",
    "    \n",
    "    del train_data, valid_data, train_loader, valid_loader, model, X_train, X_val, y_train, y_val"
   ]
  },
  {
   "cell_type": "code",
   "execution_count": null,
   "id": "6627c685",
   "metadata": {
    "execution": {
     "iopub.execute_input": "2023-10-15T23:59:14.257013Z",
     "iopub.status.busy": "2023-10-15T23:59:14.256693Z",
     "iopub.status.idle": "2023-10-15T23:59:14.263294Z",
     "shell.execute_reply": "2023-10-15T23:59:14.262368Z"
    },
    "papermill": {
     "duration": 0.021679,
     "end_time": "2023-10-15T23:59:14.264999",
     "exception": false,
     "start_time": "2023-10-15T23:59:14.243320",
     "status": "completed"
    },
    "tags": []
   },
   "outputs": [],
   "source": [
    "def load_test_file(f):\n",
    "    wav, sr = torchaudio.load('./dataset/test/' + f, sr=None)\n",
    "    wav, sr = wav.numpy(), sr\n",
    "    \n",
    "    segments = len(wav) / length\n",
    "    segments = int(np.ceil(segments))\n",
    "    \n",
    "    mel_array = []\n",
    "    \n",
    "    for i in range(0, segments):\n",
    "        if (i + 1) * length > len(wav):\n",
    "            slice = wav[len(wav) - length:len(wav)]\n",
    "        else:\n",
    "            slice = wav[i * length:(i + 1) * length]\n",
    "        \n",
    "        spec=librosa.feature.melspectrogram(y=slice, sr=sr, fmin=fmin, fmax=fmax)\n",
    "        spec_db=librosa.power_to_db(spec,top_db=80)\n",
    "\n",
    "        img = spec_to_image(spec_db)\n",
    "        mel_spec = np.stack((img, img, img))\n",
    "        mel_array.append(mel_spec)\n",
    "    \n",
    "    return mel_array"
   ]
  },
  {
   "cell_type": "code",
   "execution_count": null,
   "id": "2241d18c",
   "metadata": {
    "execution": {
     "iopub.execute_input": "2023-10-15T23:59:14.292167Z",
     "iopub.status.busy": "2023-10-15T23:59:14.291923Z",
     "iopub.status.idle": "2023-10-15T23:59:19.576367Z",
     "shell.execute_reply": "2023-10-15T23:59:19.573855Z"
    },
    "papermill": {
     "duration": 5.303173,
     "end_time": "2023-10-15T23:59:19.580107",
     "exception": false,
     "start_time": "2023-10-15T23:59:14.276934",
     "status": "completed"
    },
    "tags": []
   },
   "outputs": [],
   "source": [
    "members = []\n",
    "for i in range(nfold):\n",
    "    model = resnet101(pretrained=True)\n",
    "    num_ftrs = model.fc.in_features\n",
    "    model.fc = nn.Linear(num_ftrs, num_labels)\n",
    "    model = model.to(device)\n",
    "    model.load_state_dict(torch.load('./model'+str(i)+'.pt'))\n",
    "    model.eval()\n",
    "    members.append(model)"
   ]
  },
  {
   "cell_type": "code",
   "execution_count": null,
   "id": "7c71ee0d",
   "metadata": {
    "execution": {
     "iopub.execute_input": "2023-10-15T23:59:19.614362Z",
     "iopub.status.busy": "2023-10-15T23:59:19.614059Z",
     "iopub.status.idle": "2023-10-15T23:59:19.821273Z",
     "shell.execute_reply": "2023-10-15T23:59:19.820223Z"
    },
    "papermill": {
     "duration": 0.223113,
     "end_time": "2023-10-15T23:59:19.823520",
     "exception": false,
     "start_time": "2023-10-15T23:59:19.600407",
     "status": "completed"
    },
    "tags": []
   },
   "outputs": [],
   "source": [
    "os.remove('./model0.pt')\n",
    "os.remove('./model1.pt')\n",
    "os.remove('./model2.pt')\n",
    "os.remove('./model3.pt')\n",
    "os.remove('./model4.pt')"
   ]
  },
  {
   "cell_type": "code",
   "execution_count": null,
   "id": "357f0178",
   "metadata": {
    "execution": {
     "iopub.execute_input": "2023-10-15T23:59:19.849469Z",
     "iopub.status.busy": "2023-10-15T23:59:19.848923Z",
     "iopub.status.idle": "2023-10-16T00:30:44.063842Z",
     "shell.execute_reply": "2023-10-16T00:30:44.062940Z"
    },
    "papermill": {
     "duration": 1884.243432,
     "end_time": "2023-10-16T00:30:44.079646",
     "exception": false,
     "start_time": "2023-10-15T23:59:19.836214",
     "status": "completed"
    },
    "tags": []
   },
   "outputs": [
    {
     "name": "stdout",
     "output_type": "stream",
     "text": [
      "Starting prediction loop\n",
      "1992\n",
      "Predicted for 100 of 1993 files\n",
      "Predicted for 200 of 1993 files\n",
      "Predicted for 300 of 1993 files\n",
      "Predicted for 400 of 1993 files\n",
      "Predicted for 500 of 1993 files\n",
      "Predicted for 600 of 1993 files\n",
      "Predicted for 700 of 1993 files\n",
      "Predicted for 800 of 1993 files\n",
      "Predicted for 900 of 1993 files\n",
      "Predicted for 1000 of 1993 files\n",
      "Predicted for 1100 of 1993 files\n",
      "Predicted for 1200 of 1993 files\n",
      "Predicted for 1300 of 1993 files\n",
      "Predicted for 1400 of 1993 files\n",
      "Predicted for 1500 of 1993 files\n",
      "Predicted for 1600 of 1993 files\n",
      "Predicted for 1700 of 1993 files\n",
      "Predicted for 1800 of 1993 files\n",
      "Predicted for 1900 of 1993 files\n",
      "Submission generated\n"
     ]
    }
   ],
   "source": [
    "\n",
    "print('Starting prediction loop')\n",
    "with open('submission.csv', 'w', newline='') as csvfile:\n",
    "    submission_writer = csv.writer(csvfile, delimiter=',')\n",
    "    submission_writer.writerow(['recording_id','s0','s1','s2','s3','s4','s5','s6','s7','s8','s9','s10','s11',\n",
    "                               's12','s13','s14','s15','s16','s17','s18','s19','s20','s21','s22','s23'])\n",
    "    \n",
    "    test_files = os.listdir('./data/test/')\n",
    "    print(len(test_files))\n",
    "    \n",
    "    for i in range(0, len(test_files)):\n",
    "        data = load_test_file(test_files[i])\n",
    "        data = torch.tensor(data)\n",
    "        data = data.float()\n",
    "        if torch.cuda.is_available():\n",
    "            data = data.cuda()\n",
    "\n",
    "        output_list = []\n",
    "        for m in members:\n",
    "            output = m(data)\n",
    "            maxed_output = torch.max(output, dim=0)[0]\n",
    "            maxed_output = maxed_output.cpu().detach()\n",
    "            output_list.append(maxed_output)\n",
    "        avg_maxed_output = torch.mean(torch.stack(output_list), dim=0)\n",
    "        \n",
    "        file_id = str.split(test_files[i], '.')[0]\n",
    "        write_array = [file_id]\n",
    "        \n",
    "        for out in avg_maxed_output:\n",
    "            write_array.append(out.item())\n",
    "    \n",
    "        submission_writer.writerow(write_array)\n",
    "        \n",
    "        \n",
    "        if i % 100 == 0 and i > 0:\n",
    "            print('Predicted for ' + str(i) + ' of ' + str(len(test_files) + 1) + ' files')\n",
    "\n",
    "print('Submission generated')"
   ]
  }
 ],
 "metadata": {
  "kernelspec": {
   "display_name": "Python 3",
   "language": "python",
   "name": "python3"
  },
  "language_info": {
   "codemirror_mode": {
    "name": "ipython",
    "version": 3
   },
   "file_extension": ".py",
   "mimetype": "text/x-python",
   "name": "python",
   "nbconvert_exporter": "python",
   "pygments_lexer": "ipython3",
   "version": "3.12.3"
  },
  "papermill": {
   "default_parameters": {},
   "duration": 4265.330291,
   "end_time": "2023-10-16T00:30:46.719691",
   "environment_variables": {},
   "exception": null,
   "input_path": "__notebook__.ipynb",
   "output_path": "__notebook__.ipynb",
   "parameters": {},
   "start_time": "2023-10-15T23:19:41.389400",
   "version": "2.4.0"
  }
 },
 "nbformat": 4,
 "nbformat_minor": 5
}
